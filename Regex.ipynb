{
 "cells": [
  {
   "cell_type": "code",
   "execution_count": 16,
   "id": "28a80234-9f0b-4ee6-b0a7-cedb6163c627",
   "metadata": {},
   "outputs": [],
   "source": [
    "import re\n",
    "import warnings\n",
    "warnings.filterwarnings('ignore')"
   ]
  },
  {
   "cell_type": "markdown",
   "id": "aee4b52b-1e8f-4573-aa8a-8fc365ace23e",
   "metadata": {},
   "source": [
    "The re module offers a set of functions that allows us to search a string for a match:\n",
    "\n",
    "Function\tDescription\n",
    "\n",
    "findall:\tReturns a list containing all matches<br>\n",
    "search:\tReturns a Match object if there is a match anywhere in the string<br>\n",
    "split:\tReturns a list where the string has been split at each match<br>\n",
    "sub: Replaces one or many matches with a string<br>"
   ]
  },
  {
   "cell_type": "markdown",
   "id": "df019925-4c98-4ab5-9bda-24a39cde6ac3",
   "metadata": {},
   "source": [
    "Character\tDescription\tExample\t\n",
    "\n",
    "[]\tA set of characters\t\"[a-m]\"\t\n",
    "\n",
    "\\\tSignals a special sequence (can also be used to escape special characters)\t\"\\d\"\t\n",
    "\n",
    ".\tAny character (except newline character)\t\"he..o\"\t\n",
    "\n",
    "^\tStarts with\t\"^hello\"\t\n",
    "\n",
    "\\$\tEnds with\t\"planet$\"\t\n",
    "\n",
    "*\tZero or more occurrences\t\"he.*o\"\n",
    "\n",
    "+\tOne or more occurrences\t\"he.+o\"\n",
    "   \n",
    "?\tZero or one occurrences\t\"he.?o\"\t\n",
    "\n",
    "{}\tExactly the specified number of occurrences\t\"he.{2}o\"\t\n",
    "\n",
    "|\tEither or\t\"falls|stays\""
   ]
  },
  {
   "cell_type": "code",
   "execution_count": 11,
   "id": "613d168c-2b3b-4df1-bf76-0b891e960a7b",
   "metadata": {},
   "outputs": [
    {
     "name": "stdout",
     "output_type": "stream",
     "text": [
      "I a m t h e h o p e o f t h e u n i v e r s e I a m t h e a n s w e r t o a l l t h e l i v i n g b e i n g s t h a t c r y o u t f o r p e a c e I a m t h e p r o t e c t o r o f t h e i n n o c e n c e I a m t h e l i g h t i n t h e d a r k n e s s I a m a s u p e r S a i y a n s o n g o k u "
     ]
    }
   ],
   "source": [
    "txt = \"I am the hope of the universe. I am the answer to all the living beings that cry out for peace. I am the protector of the innocence. I am the light in the darkness. I am a super Saiyan son goku!!\"\n",
    "r = re.findall(\"[a-zA-Z]\",txt)\n",
    "for i in r:\n",
    "    print(i,end=\" \")"
   ]
  },
  {
   "cell_type": "code",
   "execution_count": 20,
   "id": "9a7f5ac7-714a-466e-8903-37aaa54dc265",
   "metadata": {},
   "outputs": [
    {
     "name": "stdout",
     "output_type": "stream",
     "text": [
      "Digits: \n",
      "1 0 0 0 0 0 0 4 0 \n",
      "Characters: \n",
      "O n a n g r i m d a y a f i e r c e b a t t l e u n f o l d e d M u g h a l A r m y c o m p r i s i n g o f s o l d i e r s f a c e d a m e r e s i k h s o l d i e r s D e s p i t e t h e o v e r w h e l m i n g d i s p a r i t y i n n u m b e r s t h e S i k h s v a l i a n t l y c o n t e s t e d t h e m i g h t o f t h e m u g h a l s u l t i m a t e l y m a k i n g a h i s t o r i c s t a n d T h i s e v e n t c o n t i n u e s t o i n s p i r e g e n e r a t i o n s w i t h i t s p r o f o u n d t e s t a m e n t t o t h e i n d o m i t a b l e w i l l a n d c o u r a g e t h a t o n e c a n h a r b o r w i t h i n "
     ]
    }
   ],
   "source": [
    "txt2 = \"On an grim day, a fierce battle unfolded. Mughal Army comprising of 10,00,000 soldiers, faced a mere 40 sikh soldiers. Despite the overwhelming disparity in numbers , the Sikhs valiantly contested the might of the mughals, ultimately making a historic stand. This event continues to inspire generations with its profound testament to the indomitable will and courage that one can harbor within.\"\n",
    "d = re.findall(\"\\d\",txt2)\n",
    "print(\"Digits: \")\n",
    "for i in d:\n",
    "    print(i, end=\" \")\n",
    "r = re.findall(\"[a-zA-z]\", txt2)\n",
    "print(\"\\nCharacters: \")\n",
    "for i in r:\n",
    "    print(i, end=\" \")"
   ]
  },
  {
   "cell_type": "code",
   "execution_count": 37,
   "id": "150c0866-9c23-4bf4-a98a-d84e7f872329",
   "metadata": {},
   "outputs": [
    {
     "name": "stdout",
     "output_type": "stream",
     "text": [
      "['the', 'the', 'the', 'the', 'the', 'the', 'the', 'the']\n",
      "['Mughal Army comprising of 10,00,000 soldiers,']\n"
     ]
    }
   ],
   "source": [
    "find_the = re.findall(\"t.e\", txt)\n",
    "print(find_the)\n",
    "# we can know how many times a word is repeating in a sentence. Also main purpose is to find certain words with length specified along with characters.\n",
    "#Also a sentence maybe\n",
    "find_sent2 = re.findall(\"M...........................................,\",txt2)\n",
    "print(find_sent2)"
   ]
  },
  {
   "cell_type": "code",
   "execution_count": 45,
   "id": "f075fb03-b2ea-44d6-b7ca-cc2dc4e112bf",
   "metadata": {},
   "outputs": [
    {
     "name": "stdout",
     "output_type": "stream",
     "text": [
      "['hello']\n",
      "['planet']\n"
     ]
    }
   ],
   "source": [
    "txt = \"hello planet\"\n",
    "\n",
    "#Check if the string starts with 'hello':\n",
    "\n",
    "x = re.findall(\"^hello\", txt)\n",
    "print(x)\n",
    "z= re.findall(\"planet$\", txt)\n",
    "print(z)"
   ]
  },
  {
   "cell_type": "code",
   "execution_count": 61,
   "id": "a0464fb2-9e06-435e-bf28-e084cf78219f",
   "metadata": {},
   "outputs": [
    {
     "name": "stdout",
     "output_type": "stream",
     "text": [
      " *:  ['ab', 'ab', 'b', 'b', 'b', 'b', 'ab', 'b', 'b']\n",
      " +:  ['ab', 'ab', 'ab']\n"
     ]
    }
   ],
   "source": [
    "txt3 = \"ab abbbb bab bb\"\n",
    "print(\" *: \", re.findall(\"a*b\", txt3))# (since 'a*' can match zero 'a's) so it will match even word starting with b\n",
    "print(\" +: \", re.findall(\"a+b\", txt3))# (since 'a+' needs at least one 'a') so it will not match wor starting with b "
   ]
  },
  {
   "cell_type": "code",
   "execution_count": 62,
   "id": "0f3bf9e4-355a-43e1-91e9-dabc1fe2ea49",
   "metadata": {},
   "outputs": [
    {
     "name": "stdout",
     "output_type": "stream",
     "text": [
      "['Hello']\n"
     ]
    }
   ],
   "source": [
    "txt4 = \"Hello planet\"\n",
    "x = re.findall(\"He.{2}o\",txt4)\n",
    "print(x)"
   ]
  },
  {
   "cell_type": "code",
   "execution_count": 65,
   "id": "49aed305-e356-4163-bf07-d6ef113f5e39",
   "metadata": {},
   "outputs": [
    {
     "data": {
      "text/plain": [
       "['rain', 'Spain', 'plain']"
      ]
     },
     "execution_count": 65,
     "metadata": {},
     "output_type": "execute_result"
    }
   ],
   "source": [
    "txt5 = \"The rain in Spain falls mainly in the plain!\"\n",
    "x = re.findall(\"rain|plain|Spain|vain|obtain\",txt5)\n",
    "x"
   ]
  },
  {
   "cell_type": "markdown",
   "id": "f9b59bde-23ec-4a31-9940-d56c2587b89c",
   "metadata": {},
   "source": [
    "# Practise Time"
   ]
  },
  {
   "cell_type": "code",
   "execution_count": 112,
   "id": "bf3fedfe-ae8c-411c-9b18-d869be4cae83",
   "metadata": {},
   "outputs": [],
   "source": [
    "q1 = \"\"\"\n",
    "My email is example123@gmail.com, and my backup is example.secondary@domain.co.uk.\n",
    "john.doe123@example-mail.com\n",
    "admin@support.example.org\n",
    "user.name@domain.co.in\n",
    "first_last+tag@sub-domain.example.museum\n",
    "\"\"\"\n",
    "email = re.findall(\"[a-zA-Z0-9._%+]+@[A-Za-z-0-9.-]+\\.[A-Za-z]{2,}\",q1)"
   ]
  },
  {
   "cell_type": "code",
   "execution_count": 113,
   "id": "d22ce2f8-14b2-4f27-bdf1-99c4eaf261dc",
   "metadata": {},
   "outputs": [
    {
     "data": {
      "text/plain": [
       "['example123@gmail.com',\n",
       " 'example.secondary@domain.co.uk',\n",
       " 'john.doe123@example-mail.com',\n",
       " 'admin@support.example.org',\n",
       " 'user.name@domain.co.in',\n",
       " 'first_last+tag@sub-domain.example.museum']"
      ]
     },
     "execution_count": 113,
     "metadata": {},
     "output_type": "execute_result"
    }
   ],
   "source": [
    "email"
   ]
  },
  {
   "cell_type": "code",
   "execution_count": 198,
   "id": "cb2fdf30-4d88-4849-b6e9-2adbcdf7c84a",
   "metadata": {},
   "outputs": [],
   "source": [
    "q2 = \"\"\"\n",
    "International Format with Country Code and Dashes\n",
    "+1-123-456-7890 \n",
    "+91-98765-43210 \n",
    "US Format with Parentheses and Dashes\n",
    "(123) 456-7890 \n",
    "(987) 654-3210      \n",
    "Standard 10-Digit Format with Dashes\n",
    "123-456-7890\n",
    "987-654-3210\n",
    "Standard 10-Digit Format without Separators\n",
    "1234567890\n",
    "9876543210\n",
    "International Format with Spaces\n",
    "+44 1234 567890\n",
    "+61 2 9876 5432\n",
    "US Format with Dots\n",
    "123.456.7890\n",
    "987.654.3210\n",
    "US Format with Country Code in Parentheses and Spaces\n",
    "+1 (123) 456 7890\n",
    "+44 (20) 7946 0958\n",
    "Extensions (Common in Office Numbers)\n",
    "123-456-7890 x1234\n",
    "(123) 456-7890 ext. 567\n",
    "\"\"\"\n",
    "phone_inter_format = re.findall(\"\\+[0-9]{1,2}\\-[0-9]{3}\\-[0-9]{3}\\-[0-9]{4}|\\+[0-9]{1,2}\\-[0-9]{5}\\-[0-9]{5}\", q2)\n",
    "phone_us_format_paren_dash=re.findall(\"\\([0-9]{3}\\)\\s[0-9]{3}[-0-9]{5}(?!\\s[a-zA-Z])\", q2)\n",
    "phone_10_digit_Std_format_dash_without_sep= re.findall(r\"^[0-9]{3}-[0-9]{3}-[0-9]{4}$|[0-9]{10}\",q2,re.MULTILINE)\n",
    "phone_inter_with_space = re.findall(\"\\+[0-9]{2}\\s\\d{4}\\s\\d{6}|\\+[0-9]{2}\\s\\d{1}\\s\\d{4}\\s\\d{4}\",q2)\n",
    "phone_us_for_dot = re.findall(\"^[0-9]{3}\\.[0-9.]{8}\",q2,re.MULTILINE)\n",
    "phone_us_pare_space = re.findall(\"\\+\\d{1,2}\\s\\(\\d{2,3}\\)\\s\\d{3,4}\\s\\d{4}\",q2)\n",
    "ext = re.findall(\"\\([0-9-]{3}\\)\\s\\d{3}[0-9-]{5}[a-z.\\s0-9]{9}|[0-9-]{12}\\s[a-z0-9]{5}\",q2)"
   ]
  },
  {
   "cell_type": "code",
   "execution_count": 199,
   "id": "59eeb71b-b416-42b4-9252-13c032cc8c62",
   "metadata": {},
   "outputs": [
    {
     "name": "stdout",
     "output_type": "stream",
     "text": [
      "International Format with Country Code and Dashes: \n",
      "+1-123-456-7890\n",
      "+91-98765-43210\n",
      "\n",
      "US Format with Parentheses and Dashes: \n",
      "(123) 456-7890\n",
      "(987) 654-3210\n",
      "\n",
      "Standard 10-Digit Format with Dashes and Standard 10-Digit Format without Separators: \n",
      "123-456-7890\n",
      "987-654-3210\n",
      "1234567890\n",
      "9876543210\n",
      "\n",
      "International Format with Spaces\n",
      "+44 1234 567890\n",
      "+61 2 9876 5432\n",
      "\n",
      "US Format with Dots\n",
      "123.456.7890\n",
      "987.654.3210\n",
      "\n",
      "US Format with Country Code in Parentheses and Spaces\n",
      "+1 (123) 456 7890\n",
      "+44 (20) 7946 0958\n",
      "\n",
      "Extensions (Common in Office Numbers)\n",
      "123-456-7890 x1234\n",
      "(123) 456-7890 ext. 567\n"
     ]
    }
   ],
   "source": [
    "print(\"International Format with Country Code and Dashes: \")\n",
    "for i in phone_inter_format:\n",
    "    print(i, end=\"\\n\")\n",
    "print(\"\\nUS Format with Parentheses and Dashes: \")\n",
    "for i in phone_us_format_paren_dash:\n",
    "    print(i, end=\"\\n\")\n",
    "print(\"\\nStandard 10-Digit Format with Dashes and Standard 10-Digit Format without Separators: \")\n",
    "for i in phone_10_digit_Std_format_dash_without_sep:\n",
    "    print(i, end=\"\\n\")\n",
    "print(\"\\nInternational Format with Spaces\")\n",
    "for i in phone_inter_with_space:\n",
    "    print(i,end=\"\\n\")\n",
    "print(\"\\nUS Format with Dots\")\n",
    "for i in phone_us_for_dot:\n",
    "    print(i,end=\"\\n\")\n",
    "print(\"\\nUS Format with Country Code in Parentheses and Spaces\")\n",
    "for i in phone_us_pare_space:\n",
    "    print(i,end=\"\\n\")\n",
    "print(\"\\nExtensions (Common in Office Numbers)\")\n",
    "for i in ext:\n",
    "    print(i,end=\"\\n\")"
   ]
  },
  {
   "cell_type": "code",
   "execution_count": 226,
   "id": "52cde067-0d1b-4cf2-8c93-eba6a9e6d257",
   "metadata": {},
   "outputs": [
    {
     "data": {
      "text/plain": [
       "['$5.10', '$15.', '$15.445']"
      ]
     },
     "execution_count": 226,
     "metadata": {},
     "output_type": "execute_result"
    }
   ],
   "source": [
    "q3 = \"I have $5.10 in my wallet, but I owe you $15.Kind of $15.445 if accurate.\"\n",
    "dol = re.findall(\"\\$\\d+(?:\\.\\d{0,3})\",q3)\n",
    "dol"
   ]
  },
  {
   "cell_type": "code",
   "execution_count": 234,
   "id": "e00c8065-0fd9-464d-859b-41b475ce1128",
   "metadata": {},
   "outputs": [
    {
     "data": {
      "text/plain": [
       "['2024-11-07', '2024/11/15']"
      ]
     },
     "execution_count": 234,
     "metadata": {},
     "output_type": "execute_result"
    }
   ],
   "source": [
    "q4 = \"The event is scheduled for 2024-11-07, and the deadline is 2024/11/15.\"\n",
    "date = re.findall(\"[0-9-/]{10}\",q4)\n",
    "date"
   ]
  },
  {
   "cell_type": "code",
   "execution_count": 245,
   "id": "1007fdfe-2588-47d3-bd0d-67711ca9d730",
   "metadata": {},
   "outputs": [
    {
     "data": {
      "text/plain": [
       "['#FF5733', '#33FF57']"
      ]
     },
     "execution_count": 245,
     "metadata": {},
     "output_type": "execute_result"
    }
   ],
   "source": [
    "q5 =\"My favorite colors are #FF5733 and #33FF57.\"\n",
    "hex = re.findall(\"#[0-9A-Z]*\",q5)\n",
    "hex"
   ]
  },
  {
   "cell_type": "code",
   "execution_count": 246,
   "id": "52bc8886-8894-4fcc-bcdf-d74ce4c06f3a",
   "metadata": {},
   "outputs": [
    {
     "data": {
      "text/plain": [
       "['4:30', '7:45']"
      ]
     },
     "execution_count": 246,
     "metadata": {},
     "output_type": "execute_result"
    }
   ],
   "source": [
    "q6 = \"I'll be online at 14:30 or maybe 7:45 AM.\"\n",
    "tim = re.findall(\"\\d[:]\\d*\",q6)\n",
    "tim"
   ]
  },
  {
   "cell_type": "code",
   "execution_count": 247,
   "id": "b0d88ce5-3102-43b5-b48d-36bda47268e5",
   "metadata": {},
   "outputs": [
    {
     "data": {
      "text/plain": [
       "['ORD001', 'ORD002', 'ORD003']"
      ]
     },
     "execution_count": 247,
     "metadata": {},
     "output_type": "execute_result"
    }
   ],
   "source": [
    "q7 = \" Order numbers are ORD001, ORD002, and ORD003.\"\n",
    "order = re.findall(\"[A-Z0-9]{6,9}\",q7)\n",
    "order"
   ]
  },
  {
   "cell_type": "code",
   "execution_count": 248,
   "id": "b3830bff-2f53-4d53-a5ba-07f7e2d0a6d5",
   "metadata": {},
   "outputs": [
    {
     "data": {
      "text/plain": [
       "['https://www.example.com', 'http://example.org']"
      ]
     },
     "execution_count": 248,
     "metadata": {},
     "output_type": "execute_result"
    }
   ],
   "source": [
    "q8 = \"Please visit https://www.example.com or http://example.org for more information.\"\n",
    "web = re.findall(\"[a-zA-z]*:\\/\\/[a-z]*\\.[a-z]*\\.[a-z]*|[a-zA-z]*:\\/\\/[a-z]*\\.[a-z]*\",q8)\n",
    "web"
   ]
  },
  {
   "cell_type": "code",
   "execution_count": 250,
   "id": "ae991e4d-befb-48ed-a020-07e021c129ef",
   "metadata": {},
   "outputs": [
    {
     "data": {
      "text/plain": [
       "['75°F', '60°F']"
      ]
     },
     "execution_count": 250,
     "metadata": {},
     "output_type": "execute_result"
    }
   ],
   "source": [
    "q9 = \"The temperature dropped from 75°F to 60°F overnight.\"\n",
    "deg = re.findall(\"\\d+°F\",q9)\n",
    "deg"
   ]
  },
  {
   "cell_type": "code",
   "execution_count": 252,
   "id": "4601b0c4-00f3-4fff-805e-e27005be8f44",
   "metadata": {},
   "outputs": [
    {
     "data": {
      "text/plain": [
       "['9 AM', '5 PM']"
      ]
     },
     "execution_count": 252,
     "metadata": {},
     "output_type": "execute_result"
    }
   ],
   "source": [
    "q10 = \"Call us between 9 AM and 5 PM from Monday to Friday.\"\n",
    "tim2 = re.findall(\"\\d\\s[A-Z]*|\\d\\s[A-Z]*\",q10)\n",
    "tim2"
   ]
  },
  {
   "cell_type": "markdown",
   "id": "9087b5d1-51f3-4a3b-868c-788f2f5d696d",
   "metadata": {},
   "source": [
    "# Code basics exercise"
   ]
  },
  {
   "cell_type": "markdown",
   "id": "bb602c0d-cef2-444b-b9cb-9738a59c1fb3",
   "metadata": {},
   "source": [
    "**Extract all twitter handles from following text. Twitter handle is the text that appears after https://twitter.com/ and is a single word.**"
   ]
  },
  {
   "cell_type": "code",
   "execution_count": 254,
   "id": "6bd4b19a-6215-4f25-9890-2aee7a4e334a",
   "metadata": {},
   "outputs": [
    {
     "data": {
      "text/plain": [
       "['https://twitter.com/elonmusk',\n",
       " 'https://twitter.com/teslarati',\n",
       " 'https://twitter.com/dummy_tesla',\n",
       " 'https://twitter.com/dummy_2_tesla']"
      ]
     },
     "execution_count": 254,
     "metadata": {},
     "output_type": "execute_result"
    }
   ],
   "source": [
    "text = '''\n",
    "Follow our leader Elon musk on twitter here: https://twitter.com/elonmusk, more information \n",
    "on Tesla's products can be found at https://www.tesla.com/. Also here are leading influencers \n",
    "for tesla related news,\n",
    "https://twitter.com/teslarati\n",
    "https://twitter.com/dummy_tesla\n",
    "https://twitter.com/dummy_2_tesla\n",
    "'''\n",
    "pattern = '[a-zA-z]*\\:\\/\\/t.{5}r\\.[a-z]*\\/[a-zA-z_0-9]*' \n",
    "\n",
    "re.findall(pattern, text)"
   ]
  },
  {
   "cell_type": "markdown",
   "id": "9f812e95-a6a9-4e04-b7fd-b89313a3343b",
   "metadata": {},
   "source": [
    "**2. Extract Concentration Risk Types. It will be a text that appears after \"Concentration Risk:\", In below example, your regex should extract these two strings**\n",
    "\n",
    "(1) Credit Risk\n",
    "\n",
    "(2) Supply Rish"
   ]
  },
  {
   "cell_type": "code",
   "execution_count": 255,
   "id": "47b2d579-9a15-4467-b414-2098879eed7b",
   "metadata": {},
   "outputs": [
    {
     "data": {
      "text/plain": [
       "['Credit Risk', 'Supply Risk']"
      ]
     },
     "execution_count": 255,
     "metadata": {},
     "output_type": "execute_result"
    }
   ],
   "source": [
    "text = '''\n",
    "Concentration of Risk: Credit Risk\n",
    "Financial instruments that potentially subject us to a concentration of credit risk consist of cash, cash equivalents, marketable securities,\n",
    "restricted cash, accounts receivable, convertible note hedges, and interest rate swaps. Our cash balances are primarily invested in money market funds\n",
    "or on deposit at high credit quality financial institutions in the U.S. These deposits are typically in excess of insured limits. As of September 30, 2021\n",
    "and December 31, 2020, no entity represented 10% or more of our total accounts receivable balance. The risk of concentration for our convertible note\n",
    "hedges and interest rate swaps is mitigated by transacting with several highly-rated multinational banks.\n",
    "Concentration of Risk: Supply Risk\n",
    "We are dependent on our suppliers, including single source suppliers, and the inability of these suppliers to deliver necessary components of our\n",
    "products in a timely manner at prices, quality levels and volumes acceptable to us, or our inability to efficiently manage these components from these\n",
    "suppliers, could have a material adverse effect on our business, prospects, financial condition and operating results.\n",
    "'''\n",
    "pattern = 'C.{9}k|S.{9}k' \n",
    "\n",
    "re.findall(pattern, text)"
   ]
  },
  {
   "cell_type": "markdown",
   "id": "2998c388-7418-4eb1-b72a-83477c37f95b",
   "metadata": {},
   "source": [
    "**3. Companies in europe reports their financial numbers of semi annual basis and you can have a document like this. To exatract quarterly and semin annual period you can use a regex as shown below**\n",
    "\n",
    "Hint: you need to use (?:) here to match everything enclosed"
   ]
  },
  {
   "cell_type": "code",
   "execution_count": 257,
   "id": "e4cfd0c9-0be6-4762-8eea-a0db4ac0fd8f",
   "metadata": {},
   "outputs": [
    {
     "data": {
      "text/plain": [
       "['2021 Q1', '2021 S1']"
      ]
     },
     "execution_count": 257,
     "metadata": {},
     "output_type": "execute_result"
    }
   ],
   "source": [
    "text = '''\n",
    "Tesla's gross cost of operating lease vehicles in FY2021 Q1 was $4.85 billion.\n",
    "BMW's gross cost of operating vehicles in FY2021 S1 was $8 billion.\n",
    "'''\n",
    "\n",
    "pattern = '\\d{4}\\s[A-Z0-9]*'\n",
    "matches = re.findall(pattern, text)\n",
    "matches"
   ]
  },
  {
   "cell_type": "code",
   "execution_count": null,
   "id": "3780746b-3333-48a3-8047-93d3fd6bac79",
   "metadata": {},
   "outputs": [],
   "source": []
  }
 ],
 "metadata": {
  "kernelspec": {
   "display_name": "Python 3 (ipykernel)",
   "language": "python",
   "name": "python3"
  },
  "language_info": {
   "codemirror_mode": {
    "name": "ipython",
    "version": 3
   },
   "file_extension": ".py",
   "mimetype": "text/x-python",
   "name": "python",
   "nbconvert_exporter": "python",
   "pygments_lexer": "ipython3",
   "version": "3.12.4"
  }
 },
 "nbformat": 4,
 "nbformat_minor": 5
}
